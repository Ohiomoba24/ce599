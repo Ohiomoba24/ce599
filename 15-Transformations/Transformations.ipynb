{
 "cells": [
  {
   "cell_type": "markdown",
   "metadata": {},
   "source": [
    "## Transformations in Linear Regression\n",
    "\n",
    "Linear regression assumes that the dependent variables and its predictors are linearly related to each other.  This applies to the terms you specify in the model estimation.  However, you can apply transformations to those variables before estimating the models.  Transformations can be applied to:\n",
    "\n",
    "- Just the dependent variable\n",
    "- One or more predictor variables\n",
    "- Both predictor and dependent variables.\n",
    "\n",
    "Some common transformations are outlined here:\n",
    "\n",
    "https://www.google.com/url?sa=t&rct=j&q=&esrc=s&source=web&cd=&cad=rja&uact=8&ved=2ahUKEwibtIr4o8rvAhVYXM0KHTl9CXYQFjADegQIFRAD&url=https%3A%2F%2Fonlinepubs.trb.org%2Fonlinepubs%2Fnchrp%2Fcd-22%2Fmanual%2Fv2appendixb.pdf&usg=AOvVaw2MUNcGvy4XZhF9G6DBqFZq\n",
    "\n",
    "\n",
    "This lesson draws from David Dranove's excellent explanation of log transformations in regression.  I very much recommend that you read it: \n",
    "\n",
    "https://www.google.com/url?sa=t&rct=j&q=&esrc=s&source=web&cd=15&cad=rja&uact=8&ved=2ahUKEwjI0fu82NvoAhXRWM0KHUuVDCkQFjAOegQICBAB&url=https%3A%2F%2Fcanvas.northwestern.edu%2Ffiles%2F1812457%2Fdownload%3Fdownload_frd%3D1%26verifier%3DQBFTMd2yRHbWR6yC6mp2s0in7G9N3rRZiRFStMrA&usg=AOvVaw1JP3fLhZJA3IEhBHVFbuRq"
   ]
  },
  {
   "cell_type": "markdown",
   "metadata": {},
   "source": [
    "### Log transformations\n",
    "\n",
    "In this lesson, we will focus on log transformations, which are among the most common.  First, a refresher on the properties of logs and expoentials.  (It's been a while, so I tend to keep the cheat sheet around!)\n",
    "\n",
    "![image](log_exp_graph.jpg)\n",
    "\n",
    "![image](log_properties.gif)"
   ]
  },
  {
   "cell_type": "markdown",
   "metadata": {},
   "source": [
    "### What happens when we specify a log-transformed regression model?\n",
    "\n",
    "Let's work out the math..."
   ]
  },
  {
   "cell_type": "code",
   "execution_count": null,
   "metadata": {},
   "outputs": [],
   "source": []
  },
  {
   "cell_type": "markdown",
   "metadata": {},
   "source": [
    "### Why take logs?\n",
    "\n",
    "There are two main reasons to specify a log model instead of a linear model:\n",
    "\n",
    "1. It fits the data better\n",
    "2. You have a theoretical to think that the relationship should be multiplicative instead of additive"
   ]
  },
  {
   "cell_type": "markdown",
   "metadata": {},
   "source": [
    "### Let's try again with the wage data"
   ]
  },
  {
   "cell_type": "code",
   "execution_count": 7,
   "metadata": {},
   "outputs": [],
   "source": [
    "import pandas as pd\n",
    "import seaborn as sns\n",
    "import numpy as np\n",
    "import statsmodels.formula.api as smf\n",
    "\n",
    "# this allows plots to appear directly in the notebook\n",
    "%matplotlib inline"
   ]
  },
  {
   "cell_type": "code",
   "execution_count": 27,
   "metadata": {},
   "outputs": [
    {
     "name": "stderr",
     "output_type": "stream",
     "text": [
      "/Applications/anaconda3/lib/python3.8/site-packages/IPython/core/interactiveshell.py:3146: DtypeWarning: Columns (1) have mixed types.Specify dtype option on import or set low_memory=False.\n",
      "  has_raised = await self.run_ast_nodes(code_ast.body, cell_name,\n"
     ]
    },
    {
     "data": {
      "text/html": [
       "<div>\n",
       "<style scoped>\n",
       "    .dataframe tbody tr th:only-of-type {\n",
       "        vertical-align: middle;\n",
       "    }\n",
       "\n",
       "    .dataframe tbody tr th {\n",
       "        vertical-align: top;\n",
       "    }\n",
       "\n",
       "    .dataframe thead th {\n",
       "        text-align: right;\n",
       "    }\n",
       "</style>\n",
       "<table border=\"1\" class=\"dataframe\">\n",
       "  <thead>\n",
       "    <tr style=\"text-align: right;\">\n",
       "      <th></th>\n",
       "      <th>RT</th>\n",
       "      <th>SERIALNO</th>\n",
       "      <th>DIVISION</th>\n",
       "      <th>SPORDER</th>\n",
       "      <th>PUMA</th>\n",
       "      <th>REGION</th>\n",
       "      <th>ST</th>\n",
       "      <th>ADJINC</th>\n",
       "      <th>PWGTP</th>\n",
       "      <th>AGEP</th>\n",
       "      <th>...</th>\n",
       "      <th>PWGTP71</th>\n",
       "      <th>PWGTP72</th>\n",
       "      <th>PWGTP73</th>\n",
       "      <th>PWGTP74</th>\n",
       "      <th>PWGTP75</th>\n",
       "      <th>PWGTP76</th>\n",
       "      <th>PWGTP77</th>\n",
       "      <th>PWGTP78</th>\n",
       "      <th>PWGTP79</th>\n",
       "      <th>PWGTP80</th>\n",
       "    </tr>\n",
       "  </thead>\n",
       "  <tbody>\n",
       "    <tr>\n",
       "      <th>0</th>\n",
       "      <td>P</td>\n",
       "      <td>2014000000017</td>\n",
       "      <td>6</td>\n",
       "      <td>1</td>\n",
       "      <td>1800</td>\n",
       "      <td>3</td>\n",
       "      <td>21</td>\n",
       "      <td>1070673</td>\n",
       "      <td>13</td>\n",
       "      <td>42</td>\n",
       "      <td>...</td>\n",
       "      <td>14</td>\n",
       "      <td>5</td>\n",
       "      <td>5</td>\n",
       "      <td>32</td>\n",
       "      <td>15</td>\n",
       "      <td>10</td>\n",
       "      <td>11</td>\n",
       "      <td>15</td>\n",
       "      <td>11</td>\n",
       "      <td>26</td>\n",
       "    </tr>\n",
       "    <tr>\n",
       "      <th>1</th>\n",
       "      <td>P</td>\n",
       "      <td>2014000000017</td>\n",
       "      <td>6</td>\n",
       "      <td>2</td>\n",
       "      <td>1800</td>\n",
       "      <td>3</td>\n",
       "      <td>21</td>\n",
       "      <td>1070673</td>\n",
       "      <td>14</td>\n",
       "      <td>47</td>\n",
       "      <td>...</td>\n",
       "      <td>12</td>\n",
       "      <td>4</td>\n",
       "      <td>4</td>\n",
       "      <td>25</td>\n",
       "      <td>22</td>\n",
       "      <td>15</td>\n",
       "      <td>14</td>\n",
       "      <td>13</td>\n",
       "      <td>15</td>\n",
       "      <td>29</td>\n",
       "    </tr>\n",
       "    <tr>\n",
       "      <th>2</th>\n",
       "      <td>P</td>\n",
       "      <td>2014000000017</td>\n",
       "      <td>6</td>\n",
       "      <td>3</td>\n",
       "      <td>1800</td>\n",
       "      <td>3</td>\n",
       "      <td>21</td>\n",
       "      <td>1070673</td>\n",
       "      <td>13</td>\n",
       "      <td>13</td>\n",
       "      <td>...</td>\n",
       "      <td>10</td>\n",
       "      <td>3</td>\n",
       "      <td>4</td>\n",
       "      <td>24</td>\n",
       "      <td>21</td>\n",
       "      <td>11</td>\n",
       "      <td>13</td>\n",
       "      <td>13</td>\n",
       "      <td>11</td>\n",
       "      <td>25</td>\n",
       "    </tr>\n",
       "    <tr>\n",
       "      <th>3</th>\n",
       "      <td>P</td>\n",
       "      <td>2014000000017</td>\n",
       "      <td>6</td>\n",
       "      <td>4</td>\n",
       "      <td>1800</td>\n",
       "      <td>3</td>\n",
       "      <td>21</td>\n",
       "      <td>1070673</td>\n",
       "      <td>13</td>\n",
       "      <td>8</td>\n",
       "      <td>...</td>\n",
       "      <td>11</td>\n",
       "      <td>3</td>\n",
       "      <td>3</td>\n",
       "      <td>24</td>\n",
       "      <td>22</td>\n",
       "      <td>12</td>\n",
       "      <td>13</td>\n",
       "      <td>13</td>\n",
       "      <td>13</td>\n",
       "      <td>25</td>\n",
       "    </tr>\n",
       "    <tr>\n",
       "      <th>4</th>\n",
       "      <td>P</td>\n",
       "      <td>2014000000076</td>\n",
       "      <td>6</td>\n",
       "      <td>1</td>\n",
       "      <td>2500</td>\n",
       "      <td>3</td>\n",
       "      <td>21</td>\n",
       "      <td>1070673</td>\n",
       "      <td>43</td>\n",
       "      <td>43</td>\n",
       "      <td>...</td>\n",
       "      <td>11</td>\n",
       "      <td>76</td>\n",
       "      <td>46</td>\n",
       "      <td>68</td>\n",
       "      <td>73</td>\n",
       "      <td>41</td>\n",
       "      <td>70</td>\n",
       "      <td>13</td>\n",
       "      <td>38</td>\n",
       "      <td>41</td>\n",
       "    </tr>\n",
       "  </tbody>\n",
       "</table>\n",
       "<p>5 rows × 286 columns</p>\n",
       "</div>"
      ],
      "text/plain": [
       "  RT       SERIALNO  DIVISION  SPORDER  PUMA  REGION  ST   ADJINC  PWGTP  \\\n",
       "0  P  2014000000017         6        1  1800       3  21  1070673     13   \n",
       "1  P  2014000000017         6        2  1800       3  21  1070673     14   \n",
       "2  P  2014000000017         6        3  1800       3  21  1070673     13   \n",
       "3  P  2014000000017         6        4  1800       3  21  1070673     13   \n",
       "4  P  2014000000076         6        1  2500       3  21  1070673     43   \n",
       "\n",
       "   AGEP  ...  PWGTP71  PWGTP72  PWGTP73  PWGTP74  PWGTP75  PWGTP76  PWGTP77  \\\n",
       "0    42  ...       14        5        5       32       15       10       11   \n",
       "1    47  ...       12        4        4       25       22       15       14   \n",
       "2    13  ...       10        3        4       24       21       11       13   \n",
       "3     8  ...       11        3        3       24       22       12       13   \n",
       "4    43  ...       11       76       46       68       73       41       70   \n",
       "\n",
       "   PWGTP78  PWGTP79  PWGTP80  \n",
       "0       15       11       26  \n",
       "1       13       15       29  \n",
       "2       13       11       25  \n",
       "3       13       13       25  \n",
       "4       13       38       41  \n",
       "\n",
       "[5 rows x 286 columns]"
      ]
     },
     "execution_count": 27,
     "metadata": {},
     "output_type": "execute_result"
    }
   ],
   "source": [
    "# get the data\n",
    "df = pd.read_csv('data/csv_pky/psam_p21.csv')\n",
    "df.head()"
   ]
  },
  {
   "cell_type": "code",
   "execution_count": 33,
   "metadata": {},
   "outputs": [
    {
     "data": {
      "text/plain": [
       "108994"
      ]
     },
     "execution_count": 33,
     "metadata": {},
     "output_type": "execute_result"
    }
   ],
   "source": [
    "# keep only the people who have worked within the last 12 months\n",
    "'''\n",
    "WKL 1\n",
    "When last worked\n",
    "b .N/A (less than 16 years old)\n",
    "1 .Within the past 12 months\n",
    "2 .1-5 years ago\n",
    "3 .Over 5 years ago or never worked\n",
    "'''\n",
    "\n",
    "df = df[df['WKL']==1]\n",
    "len(df)"
   ]
  },
  {
   "cell_type": "markdown",
   "metadata": {},
   "source": [
    "### Look at the data\n",
    "\n",
    "It is often a good idea to look at the data we want to model, and see how it relates to some variables we expect to be important.  We can do this using seaborn, which we learned about a few weeks ago.  "
   ]
  },
  {
   "cell_type": "code",
   "execution_count": 34,
   "metadata": {},
   "outputs": [
    {
     "name": "stderr",
     "output_type": "stream",
     "text": [
      "/Applications/anaconda3/lib/python3.8/site-packages/seaborn/distributions.py:2551: FutureWarning: `distplot` is a deprecated function and will be removed in a future version. Please adapt your code to use either `displot` (a figure-level function with similar flexibility) or `histplot` (an axes-level function for histograms).\n",
      "  warnings.warn(msg, FutureWarning)\n"
     ]
    },
    {
     "data": {
      "text/plain": [
       "<AxesSubplot:xlabel='WAGP', ylabel='Density'>"
      ]
     },
     "execution_count": 34,
     "metadata": {},
     "output_type": "execute_result"
    },
    {
     "data": {
      "image/png": "[encoded data removed]",
      "text/plain": [
       "<Figure size 432x288 with 1 Axes>"
      ]
     },
     "metadata": {
      "needs_background": "light"
     },
     "output_type": "display_data"
    }
   ],
   "source": [
    "'''\n",
    "WAGP 6\n",
    "Wages or salary income past 12 months\n",
    "bbbbbb .N/A (less than 15 years old)\n",
    "000000 .None\n",
    "000001..999999 .$1 to 999999 (Rounded and top-coded)\n",
    "'''\n",
    "\n",
    "sns.distplot(df['WAGP'])"
   ]
  },
  {
   "cell_type": "code",
   "execution_count": 35,
   "metadata": {},
   "outputs": [
    {
     "name": "stderr",
     "output_type": "stream",
     "text": [
      "/Applications/anaconda3/lib/python3.8/site-packages/seaborn/axisgrid.py:2015: UserWarning: The `size` parameter has been renamed to `height`; please update your code.\n",
      "  warnings.warn(msg, UserWarning)\n"
     ]
    },
    {
     "data": {
      "text/plain": [
       "<seaborn.axisgrid.JointGrid at 0x7f90f0dd55b0>"
      ]
     },
     "execution_count": 35,
     "metadata": {},
     "output_type": "execute_result"
    },
    {
     "data": {
      "image/png": "[encoded data removed]",
      "text/plain": [
       "<Figure size 576x576 with 3 Axes>"
      ]
     },
     "metadata": {
      "needs_background": "light"
     },
     "output_type": "display_data"
    }
   ],
   "source": [
    "# we may think that wages relate to hours worked, so let's look at that relationship\n",
    "'''\n",
    "WKHP 2\n",
    "Usual hours worked per week past 12 months\n",
    "bb .N/A (less than 16 years old/did not work during the past 12\n",
    ".months)\n",
    "01..98 .1 to 98 usual hours\n",
    "99 .99 or more usual hours\n",
    "'''\n",
    "\n",
    "sns.jointplot(x=\"WKHP\", y=\"WAGP\", data=df, size=8)"
   ]
  },
  {
   "cell_type": "markdown",
   "metadata": {},
   "source": [
    "### Estimating some models"
   ]
  },
  {
   "cell_type": "code",
   "execution_count": 36,
   "metadata": {},
   "outputs": [
    {
     "name": "stdout",
     "output_type": "stream",
     "text": [
      "                            OLS Regression Results                            \n",
      "==============================================================================\n",
      "Dep. Variable:                   WAGP   R-squared:                       0.136\n",
      "Model:                            OLS   Adj. R-squared:                  0.136\n",
      "Method:                 Least Squares   F-statistic:                 1.717e+04\n",
      "Date:                Mon, 29 Mar 2021   Prob (F-statistic):               0.00\n",
      "Time:                        14:12:33   Log-Likelihood:            -1.3239e+06\n",
      "No. Observations:              108994   AIC:                         2.648e+06\n",
      "Df Residuals:                  108992   BIC:                         2.648e+06\n",
      "Df Model:                           1                                         \n",
      "Covariance Type:            nonrobust                                         \n",
      "==============================================================================\n",
      "                 coef    std err          t      P>|t|      [0.025      0.975]\n",
      "------------------------------------------------------------------------------\n",
      "Intercept  -1.437e+04    431.405    -33.306      0.000   -1.52e+04   -1.35e+04\n",
      "WKHP        1399.6643     10.681    131.039      0.000    1378.729    1420.599\n",
      "==============================================================================\n",
      "Omnibus:                    98123.158   Durbin-Watson:                   1.884\n",
      "Prob(Omnibus):                  0.000   Jarque-Bera (JB):          3727700.515\n",
      "Skew:                           4.350   Prob(JB):                         0.00\n",
      "Kurtosis:                      30.297   Cond. No.                         126.\n",
      "==============================================================================\n",
      "\n",
      "Notes:\n",
      "[1] Standard Errors assume that the covariance matrix of the errors is correctly specified.\n"
     ]
    }
   ],
   "source": [
    "# linear model\n",
    "mod = smf.ols(formula='WAGP ~ WKHP', data=df)\n",
    "res = mod.fit()\n",
    "print(res.summary())"
   ]
  },
  {
   "cell_type": "code",
   "execution_count": 37,
   "metadata": {},
   "outputs": [
    {
     "name": "stdout",
     "output_type": "stream",
     "text": [
      "                            OLS Regression Results                            \n",
      "==============================================================================\n",
      "Dep. Variable:       np.log(1 + WAGP)   R-squared:                       0.144\n",
      "Model:                            OLS   Adj. R-squared:                  0.144\n",
      "Method:                 Least Squares   F-statistic:                 1.835e+04\n",
      "Date:                Mon, 29 Mar 2021   Prob (F-statistic):               0.00\n",
      "Time:                        14:12:36   Log-Likelihood:            -2.4945e+05\n",
      "No. Observations:              108994   AIC:                         4.989e+05\n",
      "Df Residuals:                  108992   BIC:                         4.989e+05\n",
      "Df Model:                           1                                         \n",
      "Covariance Type:            nonrobust                                         \n",
      "====================================================================================\n",
      "                       coef    std err          t      P>|t|      [0.025      0.975]\n",
      "------------------------------------------------------------------------------------\n",
      "Intercept            1.9019      0.057     33.579      0.000       1.791       2.013\n",
      "np.log(1 + WKHP)     2.1192      0.016    135.445      0.000       2.089       2.150\n",
      "==============================================================================\n",
      "Omnibus:                    69262.530   Durbin-Watson:                   1.912\n",
      "Prob(Omnibus):                  0.000   Jarque-Bera (JB):           623529.061\n",
      "Skew:                          -3.085   Prob(JB):                         0.00\n",
      "Kurtosis:                      12.961   Cond. No.                         30.5\n",
      "==============================================================================\n",
      "\n",
      "Notes:\n",
      "[1] Standard Errors assume that the covariance matrix of the errors is correctly specified.\n"
     ]
    }
   ],
   "source": [
    "# log-log model\n",
    "mod = smf.ols(formula='np.log(1+WAGP) ~ np.log(1+WKHP)', data=df)\n",
    "res = mod.fit()\n",
    "print(res.summary())"
   ]
  },
  {
   "cell_type": "code",
   "execution_count": 38,
   "metadata": {},
   "outputs": [
    {
     "name": "stdout",
     "output_type": "stream",
     "text": [
      "                            OLS Regression Results                            \n",
      "==============================================================================\n",
      "Dep. Variable:       np.log(1 + WAGP)   R-squared:                       0.114\n",
      "Model:                            OLS   Adj. R-squared:                  0.114\n",
      "Method:                 Least Squares   F-statistic:                 1.407e+04\n",
      "Date:                Mon, 29 Mar 2021   Prob (F-statistic):               0.00\n",
      "Time:                        14:12:40   Log-Likelihood:            -2.5131e+05\n",
      "No. Observations:              108994   AIC:                         5.026e+05\n",
      "Df Residuals:                  108992   BIC:                         5.026e+05\n",
      "Df Model:                           1                                         \n",
      "Covariance Type:            nonrobust                                         \n",
      "==============================================================================\n",
      "                 coef    std err          t      P>|t|      [0.025      0.975]\n",
      "------------------------------------------------------------------------------\n",
      "Intercept      6.9306      0.023    301.847      0.000       6.886       6.976\n",
      "WKHP           0.0674      0.001    118.629      0.000       0.066       0.069\n",
      "==============================================================================\n",
      "Omnibus:                    68792.246   Durbin-Watson:                   1.909\n",
      "Prob(Omnibus):                  0.000   Jarque-Bera (JB):           597761.802\n",
      "Skew:                          -3.074   Prob(JB):                         0.00\n",
      "Kurtosis:                      12.686   Cond. No.                         126.\n",
      "==============================================================================\n",
      "\n",
      "Notes:\n",
      "[1] Standard Errors assume that the covariance matrix of the errors is correctly specified.\n"
     ]
    }
   ],
   "source": [
    "# log-linear model\n",
    "mod = smf.ols(formula='np.log(1+WAGP) ~ WKHP', data=df)\n",
    "res = mod.fit()\n",
    "print(res.summary())"
   ]
  },
  {
   "cell_type": "code",
   "execution_count": null,
   "metadata": {},
   "outputs": [],
   "source": [
    "# What makes sense here?"
   ]
  },
  {
   "cell_type": "code",
   "execution_count": null,
   "metadata": {},
   "outputs": [],
   "source": []
  },
  {
   "cell_type": "markdown",
   "metadata": {},
   "source": [
    "### Categorical variables\n",
    "\n",
    "We may also want to include categorical variables.  We can include them by calculating a 'dummy' variable, which is 1 if the value is in a category, and zero otherwise.  "
   ]
  },
  {
   "cell_type": "code",
   "execution_count": 40,
   "metadata": {},
   "outputs": [],
   "source": [
    "'''\n",
    "SCHL 2\n",
    "Educational attainment\n",
    "bb .N/A (less than 3 years old)\n",
    "01 .No schooling completed\n",
    "02 .Nursery school, preschool 03 .Kindergarten\n",
    "04 .Grade 1\n",
    "05 .Grade 2\n",
    "06 .Grade 3\n",
    "07 .Grade 4\n",
    "08 .Grade 5\n",
    "09 .Grade 6\n",
    "10 .Grade 7\n",
    "11 .Grade 8\n",
    "12 .Grade 9\n",
    "13 .Grade 10\n",
    "14 .Grade 11 15 .12th grade - no diploma\n",
    "16 .Regular high school diploma\n",
    "17 .GED or alternative credential\n",
    "18 .Some college, but less than 1 year\n",
    "19 .1 or more years of college credit, no degree\n",
    "20 .Associate's degree\n",
    "21 .Bachelor's degree\n",
    "22 .Master's degree\n",
    "23 .Professional degree beyond a bachelor's degree\n",
    "24 .Doctorate degree\n",
    "'''\n",
    "\n",
    "# Is someone a college grad\n",
    "df['college_grad'] = df['SCHL'].apply(lambda x : x>=20)"
   ]
  },
  {
   "cell_type": "code",
   "execution_count": 41,
   "metadata": {},
   "outputs": [
    {
     "name": "stdout",
     "output_type": "stream",
     "text": [
      "                            OLS Regression Results                            \n",
      "==============================================================================\n",
      "Dep. Variable:       np.log(1 + WAGP)   R-squared:                       0.164\n",
      "Model:                            OLS   Adj. R-squared:                  0.164\n",
      "Method:                 Least Squares   F-statistic:                 1.066e+04\n",
      "Date:                Mon, 29 Mar 2021   Prob (F-statistic):               0.00\n",
      "Time:                        14:13:11   Log-Likelihood:            -2.4819e+05\n",
      "No. Observations:              108994   AIC:                         4.964e+05\n",
      "Df Residuals:                  108991   BIC:                         4.964e+05\n",
      "Df Model:                           2                                         \n",
      "Covariance Type:            nonrobust                                         \n",
      "========================================================================================\n",
      "                           coef    std err          t      P>|t|      [0.025      0.975]\n",
      "----------------------------------------------------------------------------------------\n",
      "Intercept                1.9076      0.056     34.071      0.000       1.798       2.017\n",
      "college_grad[T.True]     0.7469      0.015     50.526      0.000       0.718       0.776\n",
      "np.log(1 + WKHP)         2.0381      0.016    131.075      0.000       2.008       2.069\n",
      "==============================================================================\n",
      "Omnibus:                    70809.864   Durbin-Watson:                   1.921\n",
      "Prob(Omnibus):                  0.000   Jarque-Bera (JB):           665571.357\n",
      "Skew:                          -3.161   Prob(JB):                         0.00\n",
      "Kurtosis:                      13.324   Cond. No.                         30.7\n",
      "==============================================================================\n",
      "\n",
      "Notes:\n",
      "[1] Standard Errors assume that the covariance matrix of the errors is correctly specified.\n"
     ]
    }
   ],
   "source": [
    "# note that I can wrap long strings with a \\ character\n",
    "mod = smf.ols(formula=\"np.log(1+WAGP) \\\n",
    "                       ~ np.log(1+WKHP) \\\n",
    "                       + college_grad\", \n",
    "              data=df)\n",
    "res = mod.fit()\n",
    "print(res.summary())"
   ]
  },
  {
   "cell_type": "code",
   "execution_count": null,
   "metadata": {},
   "outputs": [],
   "source": []
  },
  {
   "cell_type": "code",
   "execution_count": null,
   "metadata": {},
   "outputs": [],
   "source": [
    "# What would you recommend for age?  "
   ]
  },
  {
   "cell_type": "code",
   "execution_count": null,
   "metadata": {},
   "outputs": [],
   "source": [
    "mod = smf.ols(formula=\"np.log(1+WAGP) \\\n",
    "                       ~ np.log(1+WKHP) \\\n",
    "                       + college_grad\", \n",
    "              data=df)\n",
    "res = mod.fit()\n",
    "print(res.summary())"
   ]
  },
  {
   "cell_type": "markdown",
   "metadata": {},
   "source": [
    "## Homework\n",
    "\n",
    "1. Read and understand:\n",
    "\n",
    "https://www.google.com/url?sa=t&rct=j&q=&esrc=s&source=web&cd=15&cad=rja&uact=8&ved=2ahUKEwjI0fu82NvoAhXRWM0KHUuVDCkQFjAOegQICBAB&url=https%3A%2F%2Fcanvas.northwestern.edu%2Ffiles%2F1812457%2Fdownload%3Fdownload_frd%3D1%26verifier%3DQBFTMd2yRHbWR6yC6mp2s0in7G9N3rRZiRFStMrA&usg=AOvVaw1JP3fLhZJA3IEhBHVFbuRq\n",
    "\n",
    "2. Revisit our previous homework modeling wages.  Specify your best log-log and log-linear models.  What would you recommend in this situation?  "
   ]
  },
  {
   "cell_type": "code",
   "execution_count": 45,
   "metadata": {},
   "outputs": [],
   "source": [
    "df['civil_grad'] = df['FOD1P'].apply(lambda x : x==2406)\n",
    "df['civil_grad']=df['FOD1P'].apply(lambda x: x==2406)\n",
    "df[df['civil_grad']]\n",
    "df['US_citizen']=df['NATIVITY'].apply(lambda x: x==1)"
   ]
  },
  {
   "cell_type": "code",
   "execution_count": 47,
   "metadata": {},
   "outputs": [
    {
     "name": "stdout",
     "output_type": "stream",
     "text": [
      "                            OLS Regression Results                            \n",
      "==============================================================================\n",
      "Dep. Variable:       np.log(1 + WAGP)   R-squared:                       0.164\n",
      "Model:                            OLS   Adj. R-squared:                  0.164\n",
      "Method:                 Least Squares   F-statistic:                     4277.\n",
      "Date:                Mon, 29 Mar 2021   Prob (F-statistic):               0.00\n",
      "Time:                        14:39:55   Log-Likelihood:            -2.4817e+05\n",
      "No. Observations:              108994   AIC:                         4.963e+05\n",
      "Df Residuals:                  108988   BIC:                         4.964e+05\n",
      "Df Model:                           5                                         \n",
      "Covariance Type:            nonrobust                                         \n",
      "========================================================================================\n",
      "                           coef    std err          t      P>|t|      [0.025      0.975]\n",
      "----------------------------------------------------------------------------------------\n",
      "Intercept                1.4511      0.091     15.932      0.000       1.273       1.630\n",
      "college_grad[T.True]     0.7383      0.015     49.489      0.000       0.709       0.767\n",
      "US_citizen[T.True]       0.1623      0.037      4.411      0.000       0.090       0.234\n",
      "civil_grad[T.True]       0.3015      0.142      2.121      0.034       0.023       0.580\n",
      "np.log(1 + AGEP)         0.0901      0.019      4.741      0.000       0.053       0.127\n",
      "np.log(1 + WKHP)         2.0296      0.016    129.587      0.000       1.999       2.060\n",
      "==============================================================================\n",
      "Omnibus:                    71191.657   Durbin-Watson:                   1.921\n",
      "Prob(Omnibus):                  0.000   Jarque-Bera (JB):           675881.843\n",
      "Skew:                          -3.180   Prob(JB):                         0.00\n",
      "Kurtosis:                      13.410   Cond. No.                         107.\n",
      "==============================================================================\n",
      "\n",
      "Notes:\n",
      "[1] Standard Errors assume that the covariance matrix of the errors is correctly specified.\n"
     ]
    }
   ],
   "source": [
    "mod = smf.ols(formula=\"np.log(1+WAGP) \\\n",
    "                       ~ college_grad\\\n",
    "                       +np.log(1+AGEP)\\\n",
    "                       +np.log(1+WKHP)\\\n",
    "                       +US_citizen\\\n",
    "                       + civil_grad\", \n",
    "              data=df)\n",
    "res = mod.fit()\n",
    "print(res.summary())"
   ]
  },
  {
   "cell_type": "code",
   "execution_count": null,
   "metadata": {},
   "outputs": [],
   "source": [
    "#The results above suggest that holding a civil engineering degree will result in 30 percent increase in your wages for the same age and working hours."
   ]
  },
  {
   "cell_type": "code",
   "execution_count": 50,
   "metadata": {},
   "outputs": [
    {
     "name": "stdout",
     "output_type": "stream",
     "text": [
      "                            OLS Regression Results                            \n",
      "==============================================================================\n",
      "Dep. Variable:       np.log(1 + WAGP)   R-squared:                       0.164\n",
      "Model:                            OLS   Adj. R-squared:                  0.164\n",
      "Method:                 Least Squares   F-statistic:                     4277.\n",
      "Date:                Mon, 29 Mar 2021   Prob (F-statistic):               0.00\n",
      "Time:                        14:47:32   Log-Likelihood:            -2.4816e+05\n",
      "No. Observations:              108994   AIC:                         4.963e+05\n",
      "Df Residuals:                  108988   BIC:                         4.964e+05\n",
      "Df Model:                           5                                         \n",
      "Covariance Type:            nonrobust                                         \n",
      "========================================================================================\n",
      "                           coef    std err          t      P>|t|      [0.025      0.975]\n",
      "----------------------------------------------------------------------------------------\n",
      "Intercept                1.4520      0.091     15.942      0.000       1.273       1.630\n",
      "college_grad[T.True]     0.7390      0.015     49.610      0.000       0.710       0.768\n",
      "US_citizen[T.True]       0.1614      0.037      4.387      0.000       0.089       0.234\n",
      "TRSP_GRAD[T.True]        0.6787      0.271      2.507      0.012       0.148       1.209\n",
      "np.log(1 + AGEP)         0.0900      0.019      4.737      0.000       0.053       0.127\n",
      "np.log(1 + WKHP)         2.0297      0.016    129.595      0.000       1.999       2.060\n",
      "==============================================================================\n",
      "Omnibus:                    71183.521   Durbin-Watson:                   1.921\n",
      "Prob(Omnibus):                  0.000   Jarque-Bera (JB):           675617.799\n",
      "Skew:                          -3.180   Prob(JB):                         0.00\n",
      "Kurtosis:                      13.408   Cond. No.                         204.\n",
      "==============================================================================\n",
      "\n",
      "Notes:\n",
      "[1] Standard Errors assume that the covariance matrix of the errors is correctly specified.\n"
     ]
    }
   ],
   "source": [
    "df['TRSP_GRAD'] = df['FOD1P'].apply(lambda x : x==5901)\n",
    "df['TRSP_GRAD']=df['FOD1P'].apply(lambda x: x==5901)\n",
    "df[df['TRSP_GRAD']]\n",
    "\n",
    "mod = smf.ols(formula=\"np.log(1+WAGP) \\\n",
    "                       ~ college_grad\\\n",
    "                       +np.log(1+AGEP)\\\n",
    "                       +np.log(1+WKHP)\\\n",
    "                       +US_citizen\\\n",
    "                       + TRSP_GRAD\", \n",
    "              data=df)\n",
    "res = mod.fit()\n",
    "print(res.summary())\n"
   ]
  },
  {
   "cell_type": "code",
   "execution_count": null,
   "metadata": {},
   "outputs": [],
   "source": [
    "#The result suggests that holding a degree in Transportation Sciences and Technologies will result in about 68 percent increase in your wages."
   ]
  },
  {
   "cell_type": "code",
   "execution_count": 55,
   "metadata": {},
   "outputs": [
    {
     "name": "stdout",
     "output_type": "stream",
     "text": [
      "                            OLS Regression Results                            \n",
      "==============================================================================\n",
      "Dep. Variable:       np.log(1 + WAGP)   R-squared:                       0.164\n",
      "Model:                            OLS   Adj. R-squared:                  0.164\n",
      "Method:                 Least Squares   F-statistic:                     5345.\n",
      "Date:                Mon, 29 Mar 2021   Prob (F-statistic):               0.00\n",
      "Time:                        14:53:05   Log-Likelihood:            -2.4817e+05\n",
      "No. Observations:              108994   AIC:                         4.963e+05\n",
      "Df Residuals:                  108989   BIC:                         4.964e+05\n",
      "Df Model:                           4                                         \n",
      "Covariance Type:            nonrobust                                         \n",
      "========================================================================================\n",
      "                           coef    std err          t      P>|t|      [0.025      0.975]\n",
      "----------------------------------------------------------------------------------------\n",
      "Intercept                1.4508      0.091     15.929      0.000       1.272       1.629\n",
      "college_grad[T.True]     0.7402      0.015     49.715      0.000       0.711       0.769\n",
      "US_citizen[T.True]       0.1613      0.037      4.385      0.000       0.089       0.233\n",
      "TRSP_INDP[T.True]    -1.437e-16   2.48e-18    -57.833      0.000   -1.49e-16   -1.39e-16\n",
      "np.log(1 + AGEP)         0.0902      0.019      4.744      0.000       0.053       0.127\n",
      "np.log(1 + WKHP)         2.0299      0.016    129.607      0.000       1.999       2.061\n",
      "==============================================================================\n",
      "Omnibus:                    71183.295   Durbin-Watson:                   1.921\n",
      "Prob(Omnibus):                  0.000   Jarque-Bera (JB):           675627.915\n",
      "Skew:                          -3.180   Prob(JB):                         0.00\n",
      "Kurtosis:                      13.408   Cond. No.                     8.95e+17\n",
      "==============================================================================\n",
      "\n",
      "Notes:\n",
      "[1] Standard Errors assume that the covariance matrix of the errors is correctly specified.\n",
      "[2] The smallest eigenvalue is 3.93e-30. This might indicate that there are\n",
      "strong multicollinearity problems or that the design matrix is singular.\n"
     ]
    }
   ],
   "source": [
    "df['TRSP_INDP'] = df['OCCP'].apply(lambda x : x==[9121, 9122, 9130, 9141, 9142, 9150, 9210,9240, 9265, 9310,9360, 9355, 9410,9415,9430,9510,9570,9600,9610,9620,9630,9640,9645,9650,9720,9760])\n",
    "df['ARCH_INDP'] = df['OCCP'].apply(lambda x: x== [1305, 1541])\n",
    "mod = smf.ols(formula=\"np.log(1+WAGP) \\\n",
    "                       ~ college_grad\\\n",
    "                       +np.log(1+AGEP)\\\n",
    "                       +np.log(1+WKHP)\\\n",
    "                       +US_citizen\\\n",
    "                       + TRSP_INDP \", \n",
    "              data=df)\n",
    "res = mod.fit()\n",
    "print(res.summary())"
   ]
  },
  {
   "cell_type": "code",
   "execution_count": null,
   "metadata": {},
   "outputs": [],
   "source": [
    "#The results show that working in the transport industry  has a very small impact on a person's wages"
   ]
  },
  {
   "cell_type": "code",
   "execution_count": 57,
   "metadata": {},
   "outputs": [
    {
     "name": "stdout",
     "output_type": "stream",
     "text": [
      "                            OLS Regression Results                            \n",
      "==============================================================================\n",
      "Dep. Variable:       np.log(1 + WAGP)   R-squared:                       0.164\n",
      "Model:                            OLS   Adj. R-squared:                  0.164\n",
      "Method:                 Least Squares   F-statistic:                     5345.\n",
      "Date:                Mon, 29 Mar 2021   Prob (F-statistic):               0.00\n",
      "Time:                        14:56:52   Log-Likelihood:            -2.4817e+05\n",
      "No. Observations:              108994   AIC:                         4.963e+05\n",
      "Df Residuals:                  108989   BIC:                         4.964e+05\n",
      "Df Model:                           4                                         \n",
      "Covariance Type:            nonrobust                                         \n",
      "========================================================================================\n",
      "                           coef    std err          t      P>|t|      [0.025      0.975]\n",
      "----------------------------------------------------------------------------------------\n",
      "Intercept                1.4508      0.091     15.929      0.000       1.272       1.629\n",
      "college_grad[T.True]     0.7402      0.015     49.715      0.000       0.711       0.769\n",
      "US_citizen[T.True]       0.1613      0.037      4.385      0.000       0.089       0.233\n",
      "ARCH_INDP[T.True]    -1.437e-16   2.48e-18    -57.833      0.000   -1.49e-16   -1.39e-16\n",
      "np.log(1 + AGEP)         0.0902      0.019      4.744      0.000       0.053       0.127\n",
      "np.log(1 + WKHP)         2.0299      0.016    129.607      0.000       1.999       2.061\n",
      "==============================================================================\n",
      "Omnibus:                    71183.295   Durbin-Watson:                   1.921\n",
      "Prob(Omnibus):                  0.000   Jarque-Bera (JB):           675627.915\n",
      "Skew:                          -3.180   Prob(JB):                         0.00\n",
      "Kurtosis:                      13.408   Cond. No.                     8.95e+17\n",
      "==============================================================================\n",
      "\n",
      "Notes:\n",
      "[1] Standard Errors assume that the covariance matrix of the errors is correctly specified.\n",
      "[2] The smallest eigenvalue is 3.93e-30. This might indicate that there are\n",
      "strong multicollinearity problems or that the design matrix is singular.\n"
     ]
    }
   ],
   "source": [
    "mod = smf.ols(formula=\"np.log(1+WAGP) \\\n",
    "                       ~ college_grad\\\n",
    "                       +np.log(1+AGEP)\\\n",
    "                       +np.log(1+WKHP)\\\n",
    "                       +US_citizen\\\n",
    "                       + ARCH_INDP \", \n",
    "              data=df)\n",
    "res = mod.fit()\n",
    "print(res.summary())"
   ]
  },
  {
   "cell_type": "code",
   "execution_count": null,
   "metadata": {},
   "outputs": [],
   "source": [
    "#The results show that working in the transport industry almost has a very small impact on a person's wages\n",
    "\n",
    "#It appears there is no difference between working in Architectural engineering industry and the transport industry."
   ]
  },
  {
   "cell_type": "code",
   "execution_count": 73,
   "metadata": {},
   "outputs": [
    {
     "name": "stdout",
     "output_type": "stream",
     "text": [
      "                            OLS Regression Results                            \n",
      "==============================================================================\n",
      "Dep. Variable:       np.log(1 + WAGP)   R-squared:                       0.164\n",
      "Model:                            OLS   Adj. R-squared:                  0.164\n",
      "Method:                 Least Squares   F-statistic:                     3065.\n",
      "Date:                Mon, 29 Mar 2021   Prob (F-statistic):               0.00\n",
      "Time:                        15:24:11   Log-Likelihood:            -2.4813e+05\n",
      "No. Observations:              108994   AIC:                         4.963e+05\n",
      "Df Residuals:                  108986   BIC:                         4.964e+05\n",
      "Df Model:                           7                                         \n",
      "Covariance Type:            nonrobust                                         \n",
      "==================================================================================================\n",
      "                                     coef    std err          t      P>|t|      [0.025      0.975]\n",
      "--------------------------------------------------------------------------------------------------\n",
      "Intercept                          1.3339      0.092     14.451      0.000       1.153       1.515\n",
      "college_grad[T.True]               0.7253      0.015     48.361      0.000       0.696       0.755\n",
      "US_citizen[T.True]                 0.1543      0.037      4.193      0.000       0.082       0.226\n",
      "CIVIL_OCCP[T.True]                 0.4258      0.194      2.200      0.028       0.046       0.805\n",
      "C(SEX)[T.2]                        0.1137      0.015      7.788      0.000       0.085       0.142\n",
      "CIVIL_OCCP[T.True]:C(SEX)[T.2]     0.3531      0.639      0.553      0.580      -0.899       1.605\n",
      "np.log(1 + AGEP)                   0.0899      0.019      4.731      0.000       0.053       0.127\n",
      "np.log(1 + WKHP)                   2.0508      0.016    129.024      0.000       2.020       2.082\n",
      "==============================================================================\n",
      "Omnibus:                    70897.176   Durbin-Watson:                   1.921\n",
      "Prob(Omnibus):                  0.000   Jarque-Bera (JB):           668356.498\n",
      "Skew:                          -3.165   Prob(JB):                         0.00\n",
      "Kurtosis:                      13.349   Cond. No.                         485.\n",
      "==============================================================================\n",
      "\n",
      "Notes:\n",
      "[1] Standard Errors assume that the covariance matrix of the errors is correctly specified.\n"
     ]
    }
   ],
   "source": [
    "df['CIVIL_OCCP'] = df['OCCP'].apply(lambda x : x==1360)\n",
    "mod = smf.ols(formula=\"np.log(1+WAGP) \\\n",
    "                       ~ college_grad\\\n",
    "                       +np.log(1+AGEP)\\\n",
    "                       +np.log(1+WKHP)\\\n",
    "                       +US_citizen\\\n",
    "                       + CIVIL_OCCP*C(SEX)\", \n",
    "              data=df)\n",
    "res = mod.fit()\n",
    "print(res.summary())\n",
    "\n",
    "\n"
   ]
  },
  {
   "cell_type": "code",
   "execution_count": null,
   "metadata": {},
   "outputs": [],
   "source": []
  },
  {
   "cell_type": "code",
   "execution_count": 69,
   "metadata": {},
   "outputs": [
    {
     "name": "stdout",
     "output_type": "stream",
     "text": [
      "                            OLS Regression Results                            \n",
      "==============================================================================\n",
      "Dep. Variable:       np.log(1 + WAGP)   R-squared:                       0.165\n",
      "Model:                            OLS   Adj. R-squared:                  0.165\n",
      "Method:                 Least Squares   F-statistic:                     2387.\n",
      "Date:                Mon, 29 Mar 2021   Prob (F-statistic):               0.00\n",
      "Time:                        15:19:39   Log-Likelihood:            -2.4812e+05\n",
      "No. Observations:              108994   AIC:                         4.963e+05\n",
      "Df Residuals:                  108984   BIC:                         4.964e+05\n",
      "Df Model:                           9                                         \n",
      "Covariance Type:            nonrobust                                         \n",
      "=================================================================================================\n",
      "                                    coef    std err          t      P>|t|      [0.025      0.975]\n",
      "-------------------------------------------------------------------------------------------------\n",
      "Intercept                         1.4306      0.091     15.682      0.000       1.252       1.609\n",
      "college_grad[T.True]              0.7256      0.015     48.075      0.000       0.696       0.755\n",
      "MECH_GRAD[T.True]                 0.4897      0.122      4.014      0.000       0.251       0.729\n",
      "black_race[T.True]                0.1213      0.030      4.086      0.000       0.063       0.179\n",
      "Phd[T.True]                       0.3552      0.065      5.487      0.000       0.228       0.482\n",
      "MECH_OCCP[T.True]                 0.6902      0.168      4.115      0.000       0.361       1.019\n",
      "C(US_citizen)[T.True]             0.1824      0.037      4.948      0.000       0.110       0.255\n",
      "MECH_GRAD[T.True]:Phd[T.True]    -0.5332      0.624     -0.854      0.393      -1.756       0.690\n",
      "np.log(1 + WKHP)                  2.0284      0.016    129.522      0.000       1.998       2.059\n",
      "np.log(1 + AGEP)                  0.0889      0.019      4.678      0.000       0.052       0.126\n",
      "==============================================================================\n",
      "Omnibus:                    71145.792   Durbin-Watson:                   1.921\n",
      "Prob(Omnibus):                  0.000   Jarque-Bera (JB):           674498.924\n",
      "Skew:                          -3.178   Prob(JB):                         0.00\n",
      "Kurtosis:                      13.398   Cond. No.                         470.\n",
      "==============================================================================\n",
      "\n",
      "Notes:\n",
      "[1] Standard Errors assume that the covariance matrix of the errors is correctly specified.\n"
     ]
    }
   ],
   "source": [
    "df['MECH_GRAD'] = df['FOD1P'].apply(lambda x : x==2414)\n",
    "df['MECH_GRAD']=df['FOD1P'].apply(lambda x: x==2414)\n",
    "df[df['MECH_GRAD']]\n",
    "df['black_race'] = df['RAC1P'].apply(lambda x : x==2)\n",
    "df['MECH_OCCP'] = df['OCCP'].apply(lambda x : x==1460)\n",
    "df['Phd']= df['SCHL'].apply(lambda x: x==24)\n",
    "mod = smf.ols(formula=\"np.log(1+WAGP) \\\n",
    "                       ~ college_grad\\\n",
    "                       +np.log(1+WKHP)\\\n",
    "                       + MECH_GRAD\\\n",
    "                       + black_race\\\n",
    "                       +np.log(1+AGEP)\\\n",
    "                       + MECH_GRAD*Phd\\\n",
    "                       +MECH_OCCP\\\n",
    "                       +C(US_citizen) \", \n",
    "              data=df)\n",
    "res = mod.fit()\n",
    "print(res.summary())"
   ]
  },
  {
   "cell_type": "code",
   "execution_count": null,
   "metadata": {},
   "outputs": [],
   "source": []
  }
 ],
 "metadata": {
  "kernelspec": {
   "display_name": "Python 3",
   "language": "python",
   "name": "python3"
  },
  "language_info": {
   "codemirror_mode": {
    "name": "ipython",
    "version": 3
   },
   "file_extension": ".py",
   "mimetype": "text/x-python",
   "name": "python",
   "nbconvert_exporter": "python",
   "pygments_lexer": "ipython3",
   "version": "3.8.5"
  }
 },
 "nbformat": 4,
 "nbformat_minor": 4
}
