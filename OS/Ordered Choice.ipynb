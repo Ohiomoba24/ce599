{
 "cells": [
  {
   "cell_type": "markdown",
   "metadata": {
    "collapsed": true
   },
   "source": [
    "# Ordered Discrete Choice Modeling\n",
    "\n",
    "This lesson draws heavily from the UCLA statistical consulting page on the topic: \n",
    "\n",
    "https://stats.idre.ucla.edu/r/dae/ordinal-logistic-regression/\n",
    "\n",
    "and from the statsmodels documentation:\n",
    "\n",
    "https://www.statsmodels.org/devel/examples/notebooks/generated/ordinal_regression.html\n",
    "\n",
    "\n",
    "### Motivation\n",
    "\n",
    "We talked about choice models last time.  Sometimes the choices have an order, and that ordering provides extra information that we can take advantage of.  By enforcing that ordering, we can estimate fewer coefficients, which is somtimes a good thing.\n",
    "\n",
    "### Libraries\n",
    "\n",
    "Will be using [Statsmodels](http://statsmodels.sourceforge.net/), but we require the latest development version.  See: \n",
    "    \n",
    "https://www.statsmodels.org/devel/install.html    \n",
    "\n",
    "and follow the instructions.  "
   ]
  },
  {
   "cell_type": "markdown",
   "metadata": {},
   "source": [
    "### Today's objective\n",
    "\n",
    "Today, we want to predict whether a student is unlikely, somewhat likely  or very likely to apply to graduate school.  There are clearly ordered.  Let's start by looking at the examples on the UCLA page:\n",
    "\n",
    "https://stats.idre.ucla.edu/r/dae/ordinal-logistic-regression/\n"
   ]
  },
  {
   "cell_type": "code",
   "execution_count": 2,
   "metadata": {},
   "outputs": [],
   "source": [
    "import pandas as pd\n",
    "import seaborn as sns\n",
    "import numpy as np\n",
    "import statsmodels.formula.api as smf\n",
    "from statsmodels.miscmodels.ordinal_model import OrderedModel\n",
    "\n",
    "# this allows plots to appear directly in the notebook\n",
    "%matplotlib inline"
   ]
  },
  {
   "cell_type": "code",
   "execution_count": 3,
   "metadata": {},
   "outputs": [
    {
     "data": {
      "text/html": [
       "<div>\n",
       "<style scoped>\n",
       "    .dataframe tbody tr th:only-of-type {\n",
       "        vertical-align: middle;\n",
       "    }\n",
       "\n",
       "    .dataframe tbody tr th {\n",
       "        vertical-align: top;\n",
       "    }\n",
       "\n",
       "    .dataframe thead th {\n",
       "        text-align: right;\n",
       "    }\n",
       "</style>\n",
       "<table border=\"1\" class=\"dataframe\">\n",
       "  <thead>\n",
       "    <tr style=\"text-align: right;\">\n",
       "      <th></th>\n",
       "      <th>apply</th>\n",
       "      <th>pared</th>\n",
       "      <th>public</th>\n",
       "      <th>gpa</th>\n",
       "      <th>apply#</th>\n",
       "    </tr>\n",
       "  </thead>\n",
       "  <tbody>\n",
       "    <tr>\n",
       "      <th>0</th>\n",
       "      <td>very likely</td>\n",
       "      <td>0</td>\n",
       "      <td>0</td>\n",
       "      <td>3.26</td>\n",
       "      <td>apply#</td>\n",
       "    </tr>\n",
       "    <tr>\n",
       "      <th>1</th>\n",
       "      <td>somewhat likely</td>\n",
       "      <td>1</td>\n",
       "      <td>0</td>\n",
       "      <td>3.21</td>\n",
       "      <td>apply#</td>\n",
       "    </tr>\n",
       "    <tr>\n",
       "      <th>2</th>\n",
       "      <td>unlikely</td>\n",
       "      <td>1</td>\n",
       "      <td>1</td>\n",
       "      <td>3.94</td>\n",
       "      <td>apply#</td>\n",
       "    </tr>\n",
       "    <tr>\n",
       "      <th>3</th>\n",
       "      <td>somewhat likely</td>\n",
       "      <td>0</td>\n",
       "      <td>0</td>\n",
       "      <td>2.81</td>\n",
       "      <td>apply#</td>\n",
       "    </tr>\n",
       "    <tr>\n",
       "      <th>4</th>\n",
       "      <td>somewhat likely</td>\n",
       "      <td>0</td>\n",
       "      <td>0</td>\n",
       "      <td>2.53</td>\n",
       "      <td>apply#</td>\n",
       "    </tr>\n",
       "  </tbody>\n",
       "</table>\n",
       "</div>"
      ],
      "text/plain": [
       "             apply  pared  public   gpa  apply#\n",
       "0      very likely      0       0  3.26  apply#\n",
       "1  somewhat likely      1       0  3.21  apply#\n",
       "2         unlikely      1       1  3.94  apply#\n",
       "3  somewhat likely      0       0  2.81  apply#\n",
       "4  somewhat likely      0       0  2.53  apply#"
      ]
     },
     "execution_count": 3,
     "metadata": {},
     "output_type": "execute_result"
    }
   ],
   "source": [
    "# get the data\n",
    "url = \"https://stats.idre.ucla.edu/stat/data/ologit.dta\"\n",
    "df = pd.read_stata(url)\n",
    "df['apply#']= 'apply#'\n",
    "df.head()"
   ]
  },
  {
   "cell_type": "code",
   "execution_count": 5,
   "metadata": {},
   "outputs": [
    {
     "data": {
      "text/plain": [
       "apply     category\n",
       "pared         int8\n",
       "public        int8\n",
       "gpa        float32\n",
       "dtype: object"
      ]
     },
     "execution_count": 5,
     "metadata": {},
     "output_type": "execute_result"
    }
   ],
   "source": [
    "df.dtypes"
   ]
  },
  {
   "cell_type": "markdown",
   "metadata": {},
   "source": [
    "### Look at the data\n",
    "\n",
    "It is often a good idea to look at the data we want to model, and see how it relates to some variables we expect to be important.  We can do this using seaborn, which we learned about a few weeks ago.  "
   ]
  },
  {
   "cell_type": "code",
   "execution_count": 6,
   "metadata": {},
   "outputs": [
    {
     "data": {
      "text/plain": [
       "unlikely           220\n",
       "somewhat likely    140\n",
       "very likely         40\n",
       "Name: apply, dtype: int64"
      ]
     },
     "execution_count": 6,
     "metadata": {},
     "output_type": "execute_result"
    }
   ],
   "source": [
    "df['apply'].value_counts()"
   ]
  },
  {
   "cell_type": "code",
   "execution_count": 7,
   "metadata": {},
   "outputs": [
    {
     "data": {
      "text/plain": [
       "0    337\n",
       "1     63\n",
       "Name: pared, dtype: int64"
      ]
     },
     "execution_count": 7,
     "metadata": {},
     "output_type": "execute_result"
    }
   ],
   "source": [
    "df['pared'].value_counts()"
   ]
  },
  {
   "cell_type": "code",
   "execution_count": 8,
   "metadata": {},
   "outputs": [
    {
     "data": {
      "text/plain": [
       "0    343\n",
       "1     57\n",
       "Name: public, dtype: int64"
      ]
     },
     "execution_count": 8,
     "metadata": {},
     "output_type": "execute_result"
    }
   ],
   "source": [
    "df['public'].value_counts()"
   ]
  },
  {
   "cell_type": "code",
   "execution_count": 9,
   "metadata": {},
   "outputs": [
    {
     "name": "stderr",
     "output_type": "stream",
     "text": [
      "/Applications/anaconda3/lib/python3.8/site-packages/seaborn/distributions.py:2551: FutureWarning: `distplot` is a deprecated function and will be removed in a future version. Please adapt your code to use either `displot` (a figure-level function with similar flexibility) or `histplot` (an axes-level function for histograms).\n",
      "  warnings.warn(msg, FutureWarning)\n"
     ]
    },
    {
     "data": {
      "text/plain": [
       "<AxesSubplot:xlabel='gpa', ylabel='Density'>"
      ]
     },
     "execution_count": 9,
     "metadata": {},
     "output_type": "execute_result"
    },
    {
     "data": {
      "image/png": "[encoded data removed]",
      "text/plain": [
       "<Figure size 432x288 with 1 Axes>"
      ]
     },
     "metadata": {
      "needs_background": "light"
     },
     "output_type": "display_data"
    }
   ],
   "source": [
    "sns.distplot(df['gpa'])"
   ]
  },
  {
   "cell_type": "markdown",
   "metadata": {},
   "source": [
    "### Estimating a model\n",
    "\n",
    "OK, that's fine, we can do plots, but we want some actual numbers.  For this, we want to estimate what the model coefficients are. "
   ]
  },
  {
   "cell_type": "code",
   "execution_count": 21,
   "metadata": {},
   "outputs": [
    {
     "name": "stdout",
     "output_type": "stream",
     "text": [
      "Optimization terminated successfully.\n",
      "         Current function value: 0.896281\n",
      "         Iterations: 22\n",
      "         Function evaluations: 24\n",
      "         Gradient evaluations: 24\n"
     ]
    },
    {
     "data": {
      "text/html": [
       "<table class=\"simpletable\">\n",
       "<caption>OrderedModel Results</caption>\n",
       "<tr>\n",
       "  <th>Dep. Variable:</th>           <td>apply</td>       <th>  Log-Likelihood:    </th> <td> -358.51</td>\n",
       "</tr>\n",
       "<tr>\n",
       "  <th>Model:</th>               <td>OrderedModel</td>    <th>  AIC:               </th> <td>   727.0</td>\n",
       "</tr>\n",
       "<tr>\n",
       "  <th>Method:</th>           <td>Maximum Likelihood</td> <th>  BIC:               </th> <td>   747.0</td>\n",
       "</tr>\n",
       "<tr>\n",
       "  <th>Date:</th>              <td>Sat, 24 Apr 2021</td>  <th>                     </th>     <td> </td>   \n",
       "</tr>\n",
       "<tr>\n",
       "  <th>Time:</th>                  <td>19:11:49</td>      <th>                     </th>     <td> </td>   \n",
       "</tr>\n",
       "<tr>\n",
       "  <th>No. Observations:</th>       <td>   400</td>       <th>                     </th>     <td> </td>   \n",
       "</tr>\n",
       "<tr>\n",
       "  <th>Df Residuals:</th>           <td>   395</td>       <th>                     </th>     <td> </td>   \n",
       "</tr>\n",
       "<tr>\n",
       "  <th>Df Model:</th>               <td>     5</td>       <th>                     </th>     <td> </td>   \n",
       "</tr>\n",
       "</table>\n",
       "<table class=\"simpletable\">\n",
       "<tr>\n",
       "               <td></td>                  <th>coef</th>     <th>std err</th>      <th>z</th>      <th>P>|z|</th>  <th>[0.025</th>    <th>0.975]</th>  \n",
       "</tr>\n",
       "<tr>\n",
       "  <th>pared</th>                       <td>    1.0476</td> <td>    0.266</td> <td>    3.942</td> <td> 0.000</td> <td>    0.527</td> <td>    1.569</td>\n",
       "</tr>\n",
       "<tr>\n",
       "  <th>public</th>                      <td>   -0.0586</td> <td>    0.298</td> <td>   -0.197</td> <td> 0.844</td> <td>   -0.642</td> <td>    0.525</td>\n",
       "</tr>\n",
       "<tr>\n",
       "  <th>gpa</th>                         <td>    0.6158</td> <td>    0.261</td> <td>    2.363</td> <td> 0.018</td> <td>    0.105</td> <td>    1.127</td>\n",
       "</tr>\n",
       "<tr>\n",
       "  <th>unlikely/somewhat likely</th>    <td>    2.2035</td> <td>    0.780</td> <td>    2.827</td> <td> 0.005</td> <td>    0.676</td> <td>    3.731</td>\n",
       "</tr>\n",
       "<tr>\n",
       "  <th>somewhat likely/very likely</th> <td>    0.7398</td> <td>    0.080</td> <td>    9.236</td> <td> 0.000</td> <td>    0.583</td> <td>    0.897</td>\n",
       "</tr>\n",
       "</table>"
      ],
      "text/plain": [
       "<class 'statsmodels.iolib.summary.Summary'>\n",
       "\"\"\"\n",
       "                             OrderedModel Results                             \n",
       "==============================================================================\n",
       "Dep. Variable:                  apply   Log-Likelihood:                -358.51\n",
       "Model:                   OrderedModel   AIC:                             727.0\n",
       "Method:            Maximum Likelihood   BIC:                             747.0\n",
       "Date:                Sat, 24 Apr 2021                                         \n",
       "Time:                        19:11:49                                         \n",
       "No. Observations:                 400                                         \n",
       "Df Residuals:                     395                                         \n",
       "Df Model:                           5                                         \n",
       "===============================================================================================\n",
       "                                  coef    std err          z      P>|z|      [0.025      0.975]\n",
       "-----------------------------------------------------------------------------------------------\n",
       "pared                           1.0476      0.266      3.942      0.000       0.527       1.569\n",
       "public                         -0.0586      0.298     -0.197      0.844      -0.642       0.525\n",
       "gpa                             0.6158      0.261      2.363      0.018       0.105       1.127\n",
       "unlikely/somewhat likely        2.2035      0.780      2.827      0.005       0.676       3.731\n",
       "somewhat likely/very likely     0.7398      0.080      9.236      0.000       0.583       0.897\n",
       "===============================================================================================\n",
       "\"\"\""
      ]
     },
     "execution_count": 21,
     "metadata": {},
     "output_type": "execute_result"
    }
   ],
   "source": [
    "mod = OrderedModel.from_formula(\"apply ~ 0 + pared + public + gpa\", df,\n",
    "                                      distr='logit')\n",
    "res = mod.fit(method='bfgs')\n",
    "res.summary()"
   ]
  },
  {
   "cell_type": "code",
   "execution_count": null,
   "metadata": {},
   "outputs": [],
   "source": []
  },
  {
   "cell_type": "markdown",
   "metadata": {},
   "source": [
    "### Homework\n",
    "\n",
    "1. Install the development version (0.13.0.dev0) of statsmodels. \n",
    "2. Estimate the model specified above. Then answer: Is someone with a GPA of 4.0, who went to public school and whose parents do not have a graduate degree have more or less likely to apply to graduate school than someone with a GPA of 3.0 whose parents have a graduate degree and who went to private school.\n",
    "3. Estimate a multinomial logit model of the same choice.  Explain how the two are different. \n",
    "4. Estimate an ordered logit model of vehicle ownership (from last time).  Explain which model you prefer and why.  "
   ]
  },
  {
   "cell_type": "code",
   "execution_count": 19,
   "metadata": {},
   "outputs": [
    {
     "data": {
      "text/html": [
       "<div>\n",
       "<style scoped>\n",
       "    .dataframe tbody tr th:only-of-type {\n",
       "        vertical-align: middle;\n",
       "    }\n",
       "\n",
       "    .dataframe tbody tr th {\n",
       "        vertical-align: top;\n",
       "    }\n",
       "\n",
       "    .dataframe thead th {\n",
       "        text-align: right;\n",
       "    }\n",
       "</style>\n",
       "<table border=\"1\" class=\"dataframe\">\n",
       "  <thead>\n",
       "    <tr style=\"text-align: right;\">\n",
       "      <th></th>\n",
       "      <th>apply</th>\n",
       "      <th>pared</th>\n",
       "      <th>public</th>\n",
       "      <th>gpa</th>\n",
       "      <th>apply_num</th>\n",
       "    </tr>\n",
       "  </thead>\n",
       "  <tbody>\n",
       "    <tr>\n",
       "      <th>0</th>\n",
       "      <td>very likely</td>\n",
       "      <td>0</td>\n",
       "      <td>0</td>\n",
       "      <td>3.26</td>\n",
       "      <td>3.0</td>\n",
       "    </tr>\n",
       "    <tr>\n",
       "      <th>1</th>\n",
       "      <td>somewhat likely</td>\n",
       "      <td>1</td>\n",
       "      <td>0</td>\n",
       "      <td>3.21</td>\n",
       "      <td>2.0</td>\n",
       "    </tr>\n",
       "    <tr>\n",
       "      <th>2</th>\n",
       "      <td>unlikely</td>\n",
       "      <td>1</td>\n",
       "      <td>1</td>\n",
       "      <td>3.94</td>\n",
       "      <td>1.0</td>\n",
       "    </tr>\n",
       "    <tr>\n",
       "      <th>3</th>\n",
       "      <td>somewhat likely</td>\n",
       "      <td>0</td>\n",
       "      <td>0</td>\n",
       "      <td>2.81</td>\n",
       "      <td>2.0</td>\n",
       "    </tr>\n",
       "    <tr>\n",
       "      <th>4</th>\n",
       "      <td>somewhat likely</td>\n",
       "      <td>0</td>\n",
       "      <td>0</td>\n",
       "      <td>2.53</td>\n",
       "      <td>2.0</td>\n",
       "    </tr>\n",
       "  </tbody>\n",
       "</table>\n",
       "</div>"
      ],
      "text/plain": [
       "             apply  pared  public   gpa  apply_num\n",
       "0      very likely      0       0  3.26        3.0\n",
       "1  somewhat likely      1       0  3.21        2.0\n",
       "2         unlikely      1       1  3.94        1.0\n",
       "3  somewhat likely      0       0  2.81        2.0\n",
       "4  somewhat likely      0       0  2.53        2.0"
      ]
     },
     "execution_count": 19,
     "metadata": {},
     "output_type": "execute_result"
    }
   ],
   "source": [
    "df['apply#'] = df['apply']\n",
    "df.loc[df['apply'] == 'unlikely', 'apply_num'] = 1\n",
    "df.loc[df['apply'] == 'somewhat likely', 'apply_num'] = 2\n",
    "df.loc[df['apply'] == 'very likely', 'apply_num'] = 3\n",
    "del df['apply#']\n",
    "df.head()"
   ]
  },
  {
   "cell_type": "code",
   "execution_count": 21,
   "metadata": {},
   "outputs": [
    {
     "name": "stdout",
     "output_type": "stream",
     "text": [
      "Optimization terminated successfully.\n",
      "         Current function value: 0.909954\n",
      "         Iterations 6\n",
      "                          MNLogit Regression Results                          \n",
      "==============================================================================\n",
      "Dep. Variable:              apply_num   No. Observations:                  400\n",
      "Model:                        MNLogit   Df Residuals:                      394\n",
      "Method:                           MLE   Df Model:                            4\n",
      "Date:                Sat, 24 Apr 2021   Pseudo R-squ.:                 0.01787\n",
      "Time:                        20:29:13   Log-Likelihood:                -363.98\n",
      "converged:                       True   LL-Null:                       -370.60\n",
      "Covariance Type:            nonrobust   LLR p-value:                   0.01015\n",
      "===============================================================================\n",
      "apply_num=2       coef    std err          z      P>|z|      [0.025      0.975]\n",
      "-------------------------------------------------------------------------------\n",
      "pared           1.0281      0.316      3.250      0.001       0.408       1.648\n",
      "public         -0.3047      0.338     -0.902      0.367      -0.967       0.357\n",
      "gpa            -0.1778      0.042     -4.238      0.000      -0.260      -0.096\n",
      "-------------------------------------------------------------------------------\n",
      "apply_num=3       coef    std err          z      P>|z|      [0.025      0.975]\n",
      "-------------------------------------------------------------------------------\n",
      "pared           1.5650      0.417      3.749      0.000       0.747       2.383\n",
      "public          0.6650      0.430      1.548      0.122      -0.177       1.507\n",
      "gpa            -0.6837      0.074     -9.226      0.000      -0.829      -0.538\n",
      "===============================================================================\n"
     ]
    }
   ],
   "source": [
    "mod1 = smf.mnlogit(formula='apply_num ~0 + pared + public + gpa', data=df)\n",
    "res = mod1.fit()\n",
    "print(res.summary())"
   ]
  },
  {
   "cell_type": "code",
   "execution_count": 9,
   "metadata": {},
   "outputs": [
    {
     "data": {
      "text/html": [
       "<div>\n",
       "<style scoped>\n",
       "    .dataframe tbody tr th:only-of-type {\n",
       "        vertical-align: middle;\n",
       "    }\n",
       "\n",
       "    .dataframe tbody tr th {\n",
       "        vertical-align: top;\n",
       "    }\n",
       "\n",
       "    .dataframe thead th {\n",
       "        text-align: right;\n",
       "    }\n",
       "</style>\n",
       "<table border=\"1\" class=\"dataframe\">\n",
       "  <thead>\n",
       "    <tr style=\"text-align: right;\">\n",
       "      <th></th>\n",
       "      <th>RT</th>\n",
       "      <th>SERIALNO</th>\n",
       "      <th>DIVISION</th>\n",
       "      <th>PUMA</th>\n",
       "      <th>REGION</th>\n",
       "      <th>ST</th>\n",
       "      <th>ADJHSG</th>\n",
       "      <th>ADJINC</th>\n",
       "      <th>WGTP</th>\n",
       "      <th>NP</th>\n",
       "      <th>...</th>\n",
       "      <th>WGTP71</th>\n",
       "      <th>WGTP72</th>\n",
       "      <th>WGTP73</th>\n",
       "      <th>WGTP74</th>\n",
       "      <th>WGTP75</th>\n",
       "      <th>WGTP76</th>\n",
       "      <th>WGTP77</th>\n",
       "      <th>WGTP78</th>\n",
       "      <th>WGTP79</th>\n",
       "      <th>WGTP80</th>\n",
       "    </tr>\n",
       "  </thead>\n",
       "  <tbody>\n",
       "    <tr>\n",
       "      <th>0</th>\n",
       "      <td>H</td>\n",
       "      <td>2017000000006</td>\n",
       "      <td>6</td>\n",
       "      <td>2400</td>\n",
       "      <td>3</td>\n",
       "      <td>21</td>\n",
       "      <td>1000000</td>\n",
       "      <td>1011189</td>\n",
       "      <td>79</td>\n",
       "      <td>1</td>\n",
       "      <td>...</td>\n",
       "      <td>109</td>\n",
       "      <td>26</td>\n",
       "      <td>126</td>\n",
       "      <td>85</td>\n",
       "      <td>111</td>\n",
       "      <td>68</td>\n",
       "      <td>34</td>\n",
       "      <td>73</td>\n",
       "      <td>28</td>\n",
       "      <td>105</td>\n",
       "    </tr>\n",
       "    <tr>\n",
       "      <th>1</th>\n",
       "      <td>H</td>\n",
       "      <td>2017000000109</td>\n",
       "      <td>6</td>\n",
       "      <td>1703</td>\n",
       "      <td>3</td>\n",
       "      <td>21</td>\n",
       "      <td>1000000</td>\n",
       "      <td>1011189</td>\n",
       "      <td>12</td>\n",
       "      <td>1</td>\n",
       "      <td>...</td>\n",
       "      <td>24</td>\n",
       "      <td>21</td>\n",
       "      <td>3</td>\n",
       "      <td>5</td>\n",
       "      <td>13</td>\n",
       "      <td>15</td>\n",
       "      <td>13</td>\n",
       "      <td>13</td>\n",
       "      <td>26</td>\n",
       "      <td>5</td>\n",
       "    </tr>\n",
       "    <tr>\n",
       "      <th>2</th>\n",
       "      <td>H</td>\n",
       "      <td>2017000000131</td>\n",
       "      <td>6</td>\n",
       "      <td>1500</td>\n",
       "      <td>3</td>\n",
       "      <td>21</td>\n",
       "      <td>1000000</td>\n",
       "      <td>1011189</td>\n",
       "      <td>273</td>\n",
       "      <td>2</td>\n",
       "      <td>...</td>\n",
       "      <td>106</td>\n",
       "      <td>510</td>\n",
       "      <td>305</td>\n",
       "      <td>244</td>\n",
       "      <td>287</td>\n",
       "      <td>502</td>\n",
       "      <td>271</td>\n",
       "      <td>90</td>\n",
       "      <td>341</td>\n",
       "      <td>103</td>\n",
       "    </tr>\n",
       "    <tr>\n",
       "      <th>3</th>\n",
       "      <td>H</td>\n",
       "      <td>2017000000185</td>\n",
       "      <td>6</td>\n",
       "      <td>2400</td>\n",
       "      <td>3</td>\n",
       "      <td>21</td>\n",
       "      <td>1000000</td>\n",
       "      <td>1011189</td>\n",
       "      <td>65</td>\n",
       "      <td>1</td>\n",
       "      <td>...</td>\n",
       "      <td>18</td>\n",
       "      <td>88</td>\n",
       "      <td>80</td>\n",
       "      <td>105</td>\n",
       "      <td>126</td>\n",
       "      <td>61</td>\n",
       "      <td>68</td>\n",
       "      <td>64</td>\n",
       "      <td>54</td>\n",
       "      <td>18</td>\n",
       "    </tr>\n",
       "    <tr>\n",
       "      <th>4</th>\n",
       "      <td>H</td>\n",
       "      <td>2017000000265</td>\n",
       "      <td>6</td>\n",
       "      <td>300</td>\n",
       "      <td>3</td>\n",
       "      <td>21</td>\n",
       "      <td>1000000</td>\n",
       "      <td>1011189</td>\n",
       "      <td>130</td>\n",
       "      <td>1</td>\n",
       "      <td>...</td>\n",
       "      <td>127</td>\n",
       "      <td>120</td>\n",
       "      <td>235</td>\n",
       "      <td>102</td>\n",
       "      <td>136</td>\n",
       "      <td>215</td>\n",
       "      <td>181</td>\n",
       "      <td>194</td>\n",
       "      <td>143</td>\n",
       "      <td>127</td>\n",
       "    </tr>\n",
       "  </tbody>\n",
       "</table>\n",
       "<p>5 rows × 230 columns</p>\n",
       "</div>"
      ],
      "text/plain": [
       "  RT       SERIALNO  DIVISION  PUMA  REGION  ST   ADJHSG   ADJINC  WGTP  NP  \\\n",
       "0  H  2017000000006         6  2400       3  21  1000000  1011189    79   1   \n",
       "1  H  2017000000109         6  1703       3  21  1000000  1011189    12   1   \n",
       "2  H  2017000000131         6  1500       3  21  1000000  1011189   273   2   \n",
       "3  H  2017000000185         6  2400       3  21  1000000  1011189    65   1   \n",
       "4  H  2017000000265         6   300       3  21  1000000  1011189   130   1   \n",
       "\n",
       "   ...  WGTP71  WGTP72  WGTP73  WGTP74  WGTP75  WGTP76  WGTP77  WGTP78  \\\n",
       "0  ...     109      26     126      85     111      68      34      73   \n",
       "1  ...      24      21       3       5      13      15      13      13   \n",
       "2  ...     106     510     305     244     287     502     271      90   \n",
       "3  ...      18      88      80     105     126      61      68      64   \n",
       "4  ...     127     120     235     102     136     215     181     194   \n",
       "\n",
       "   WGTP79  WGTP80  \n",
       "0      28     105  \n",
       "1      26       5  \n",
       "2     341     103  \n",
       "3      54      18  \n",
       "4     143     127  \n",
       "\n",
       "[5 rows x 230 columns]"
      ]
     },
     "execution_count": 9,
     "metadata": {},
     "output_type": "execute_result"
    }
   ],
   "source": [
    "df1 = pd.read_csv('data/psam_h21.csv')\n",
    "df1.head()\n"
   ]
  },
  {
   "cell_type": "code",
   "execution_count": 12,
   "metadata": {},
   "outputs": [
    {
     "name": "stdout",
     "output_type": "stream",
     "text": [
      "Warning: Desired error not necessarily achieved due to precision loss.\n",
      "         Current function value: 1.314128\n",
      "         Iterations: 29\n",
      "         Function evaluations: 88\n",
      "         Gradient evaluations: 76\n"
     ]
    },
    {
     "name": "stderr",
     "output_type": "stream",
     "text": [
      "/Applications/anaconda3/lib/python3.8/site-packages/statsmodels/base/model.py:566: ConvergenceWarning: Maximum Likelihood optimization failed to converge. Check mle_retvals\n",
      "  warnings.warn(\"Maximum Likelihood optimization failed to \"\n"
     ]
    },
    {
     "data": {
      "text/html": [
       "<table class=\"simpletable\">\n",
       "<caption>OrderedModel Results</caption>\n",
       "<tr>\n",
       "  <th>Dep. Variable:</th>            <td>VEH</td>        <th>  Log-Likelihood:    </th> <td> -23791.</td> \n",
       "</tr>\n",
       "<tr>\n",
       "  <th>Model:</th>               <td>OrderedModel</td>    <th>  AIC:               </th> <td>4.760e+04</td>\n",
       "</tr>\n",
       "<tr>\n",
       "  <th>Method:</th>           <td>Maximum Likelihood</td> <th>  BIC:               </th> <td>4.766e+04</td>\n",
       "</tr>\n",
       "<tr>\n",
       "  <th>Date:</th>              <td>Tue, 27 Apr 2021</td>  <th>                     </th>     <td> </td>    \n",
       "</tr>\n",
       "<tr>\n",
       "  <th>Time:</th>                  <td>12:24:15</td>      <th>                     </th>     <td> </td>    \n",
       "</tr>\n",
       "<tr>\n",
       "  <th>No. Observations:</th>       <td> 18104</td>       <th>                     </th>     <td> </td>    \n",
       "</tr>\n",
       "<tr>\n",
       "  <th>Df Residuals:</th>           <td> 18096</td>       <th>                     </th>     <td> </td>    \n",
       "</tr>\n",
       "<tr>\n",
       "  <th>Df Model:</th>               <td>     8</td>       <th>                     </th>     <td> </td>    \n",
       "</tr>\n",
       "</table>\n",
       "<table class=\"simpletable\">\n",
       "<tr>\n",
       "     <td></td>        <th>coef</th>     <th>std err</th>      <th>z</th>      <th>P>|z|</th>  <th>[0.025</th>    <th>0.975]</th>  \n",
       "</tr>\n",
       "<tr>\n",
       "  <th>HINCP</th>   <td> 7.773e-06</td> <td> 2.53e-07</td> <td>   30.701</td> <td> 0.000</td> <td> 7.28e-06</td> <td> 8.27e-06</td>\n",
       "</tr>\n",
       "<tr>\n",
       "  <th>NP</th>      <td>    0.5952</td> <td>    0.012</td> <td>   50.382</td> <td> 0.000</td> <td>    0.572</td> <td>    0.618</td>\n",
       "</tr>\n",
       "<tr>\n",
       "  <th>0.0/1.0</th> <td>   -1.0958</td> <td>    0.037</td> <td>  -29.941</td> <td> 0.000</td> <td>   -1.168</td> <td>   -1.024</td>\n",
       "</tr>\n",
       "<tr>\n",
       "  <th>1.0/2.0</th> <td>    0.8747</td> <td>    0.013</td> <td>   69.310</td> <td> 0.000</td> <td>    0.850</td> <td>    0.899</td>\n",
       "</tr>\n",
       "<tr>\n",
       "  <th>2.0/3.0</th> <td>    0.7397</td> <td>    0.011</td> <td>   68.681</td> <td> 0.000</td> <td>    0.719</td> <td>    0.761</td>\n",
       "</tr>\n",
       "<tr>\n",
       "  <th>3.0/4.0</th> <td>    0.4380</td> <td>    0.018</td> <td>   24.488</td> <td> 0.000</td> <td>    0.403</td> <td>    0.473</td>\n",
       "</tr>\n",
       "<tr>\n",
       "  <th>4.0/5.0</th> <td>    0.3344</td> <td>    0.033</td> <td>   10.240</td> <td> 0.000</td> <td>    0.270</td> <td>    0.398</td>\n",
       "</tr>\n",
       "<tr>\n",
       "  <th>5.0/6.0</th> <td>    0.3342</td> <td>    0.061</td> <td>    5.476</td> <td> 0.000</td> <td>    0.215</td> <td>    0.454</td>\n",
       "</tr>\n",
       "</table>"
      ],
      "text/plain": [
       "<class 'statsmodels.iolib.summary.Summary'>\n",
       "\"\"\"\n",
       "                             OrderedModel Results                             \n",
       "==============================================================================\n",
       "Dep. Variable:                    VEH   Log-Likelihood:                -23791.\n",
       "Model:                   OrderedModel   AIC:                         4.760e+04\n",
       "Method:            Maximum Likelihood   BIC:                         4.766e+04\n",
       "Date:                Tue, 27 Apr 2021                                         \n",
       "Time:                        12:24:15                                         \n",
       "No. Observations:               18104                                         \n",
       "Df Residuals:                   18096                                         \n",
       "Df Model:                           8                                         \n",
       "==============================================================================\n",
       "                 coef    std err          z      P>|z|      [0.025      0.975]\n",
       "------------------------------------------------------------------------------\n",
       "HINCP       7.773e-06   2.53e-07     30.701      0.000    7.28e-06    8.27e-06\n",
       "NP             0.5952      0.012     50.382      0.000       0.572       0.618\n",
       "0.0/1.0       -1.0958      0.037    -29.941      0.000      -1.168      -1.024\n",
       "1.0/2.0        0.8747      0.013     69.310      0.000       0.850       0.899\n",
       "2.0/3.0        0.7397      0.011     68.681      0.000       0.719       0.761\n",
       "3.0/4.0        0.4380      0.018     24.488      0.000       0.403       0.473\n",
       "4.0/5.0        0.3344      0.033     10.240      0.000       0.270       0.398\n",
       "5.0/6.0        0.3342      0.061      5.476      0.000       0.215       0.454\n",
       "==============================================================================\n",
       "\"\"\""
      ]
     },
     "execution_count": 12,
     "metadata": {},
     "output_type": "execute_result"
    }
   ],
   "source": [
    "mod = OrderedModel.from_formula(\"VEH ~ HINCP+ NP\", df1,\n",
    "                                      distr='logit')\n",
    "res = mod.fit(method='bfgs')\n",
    "res.summary()"
   ]
  },
  {
   "cell_type": "code",
   "execution_count": null,
   "metadata": {},
   "outputs": [],
   "source": []
  }
 ],
 "metadata": {
  "anaconda-cloud": {},
  "kernelspec": {
   "display_name": "Python 3",
   "language": "python",
   "name": "python3"
  },
  "language_info": {
   "codemirror_mode": {
    "name": "ipython",
    "version": 3
   },
   "file_extension": ".py",
   "mimetype": "text/x-python",
   "name": "python",
   "nbconvert_exporter": "python",
   "pygments_lexer": "ipython3",
   "version": "3.7.9"
  }
 },
 "nbformat": 4,
 "nbformat_minor": 1
}
